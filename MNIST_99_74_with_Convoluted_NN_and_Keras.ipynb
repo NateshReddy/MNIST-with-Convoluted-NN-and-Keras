{
  "nbformat": 4,
  "nbformat_minor": 0,
  "metadata": {
    "kernelspec": {
      "name": "python3",
      "display_name": "Python 3"
    },
    "language_info": {
      "name": "python",
      "version": "3.6.4",
      "mimetype": "text/x-python",
      "codemirror_mode": {
        "name": "ipython",
        "version": 3
      },
      "pygments_lexer": "ipython3",
      "nbconvert_exporter": "python",
      "file_extension": ".py"
    },
    "colab": {
      "name": "MNIST 99.74% with Convoluted NN and Keras.ipynb",
      "provenance": [],
      "collapsed_sections": [],
      "toc_visible": true
    },
    "accelerator": "GPU"
  },
  "cells": [
    {
      "cell_type": "markdown",
      "metadata": {
        "_uuid": "aa621f76195962da026e03055468e0d5ae6fca66",
        "id": "bNeZVPVPP_9o",
        "colab_type": "text"
      },
      "source": [
        "* MNIST with Convoluted NN Keras\n",
        "* Train set is made of Kaggle 42k + Keras 60k = 102k\n",
        "* CV on train and then test on 10k from Keras\n",
        "* Final model is trained on train+test = 112k\n",
        "* CNN with adam ( vs rmsprop) and dropout against overfitting\n",
        "\n",
        "* It's a quick intro to the capabilities of CNN and Keras"
      ]
    },
    {
      "cell_type": "markdown",
      "metadata": {
        "id": "Fd2R2MKCq_Or",
        "colab_type": "text"
      },
      "source": [
        "# Importing Dataset form kaggle"
      ]
    },
    {
      "cell_type": "code",
      "metadata": {
        "id": "nF3PUgQGQJiY",
        "colab_type": "code",
        "outputId": "552eb4de-1126-4c3e-e41e-515538a3d9aa",
        "colab": {
          "base_uri": "https://localhost:8080/",
          "height": 258
        }
      },
      "source": [
        "# Colab library to upload files to notebook\n",
        "from google.colab import files\n",
        "# Install Kaggle library\n",
        "!pip install -q kaggle\n",
        "\n",
        "\n",
        "\n",
        "import os\n",
        "user = 'nateshreddy'\n",
        "key = 'da0bcdffa3cc7217c967c2dcd0383f84'\n",
        "\n",
        "if '.kaggle' not in os.listdir('/root'):\n",
        "    !mkdir ~/.kaggle\n",
        "!touch /root/.kaggle/kaggle.json\n",
        "!chmod 666 /root/.kaggle/kaggle.json\n",
        "with open('/root/.kaggle/kaggle.json', 'w') as f:\n",
        "    f.write('{\"username\":\"%s\",\"key\":\"%s\"}' % (user, key))\n",
        "!chmod 600 /root/.kaggle/kaggle.json\n",
        "\n",
        "\n",
        "\n",
        "\n",
        "!kaggle competitions download -c digit-recognizer\n",
        "\n",
        "\n",
        "\n",
        "\n",
        "!unzip \\*.zip"
      ],
      "execution_count": 0,
      "outputs": [
        {
          "output_type": "stream",
          "text": [
            "Warning: Looks like you're using an outdated API Version, please consider updating (server 1.5.6 / client 1.5.4)\n",
            "train.csv.zip: Skipping, found more recently modified local copy (use --force to force download)\n",
            "sample_submission.csv: Skipping, found more recently modified local copy (use --force to force download)\n",
            "test.csv.zip: Skipping, found more recently modified local copy (use --force to force download)\n",
            "Archive:  train.csv.zip\n",
            "replace train.csv? [y]es, [n]o, [A]ll, [N]one, [r]ename: y\n",
            "  inflating: train.csv               \n",
            "\n",
            "Archive:  test.csv.zip\n",
            "replace test.csv? [y]es, [n]o, [A]ll, [N]one, [r]ename: y\n",
            "  inflating: test.csv                \n",
            "\n",
            "2 archives were successfully processed.\n"
          ],
          "name": "stdout"
        }
      ]
    },
    {
      "cell_type": "markdown",
      "metadata": {
        "id": "yo1qwictsRMI",
        "colab_type": "text"
      },
      "source": [
        "# Importing the necessary Modules"
      ]
    },
    {
      "cell_type": "code",
      "metadata": {
        "_uuid": "8f2839f25d086af736a60e9eeb907d3b93b6e0e5",
        "_cell_guid": "b1076dfc-b9ad-4769-8c92-a6c4dae69d19",
        "trusted": true,
        "id": "wQaadTbmP_9s",
        "colab_type": "code",
        "outputId": "2651aba9-8093-4c59-a2e1-d1cf419ec1db",
        "colab": {
          "base_uri": "https://localhost:8080/",
          "height": 221
        }
      },
      "source": [
        "# IMPORT modules\n",
        "# TURN ON the GPU !!!\n",
        "# If importing dataset from outside - like the Keras dataset - Internet must be \"connected\"\n",
        "\n",
        "import os\n",
        "from operator import itemgetter    \n",
        "import numpy as np\n",
        "import pandas as pd\n",
        "import matplotlib.pyplot as plt\n",
        "import warnings\n",
        "warnings.filterwarnings('ignore')\n",
        "get_ipython().magic(u'matplotlib inline')\n",
        "plt.style.use('ggplot')\n",
        "\n",
        "import tensorflow as tf\n",
        "\n",
        "from keras import models, regularizers, layers, optimizers, losses, metrics\n",
        "from keras.models import Sequential\n",
        "from keras.layers import Dense\n",
        "from keras.utils import np_utils, to_categorical\n",
        "\n",
        "from keras.datasets import mnist\n",
        "\n",
        "print(os.getcwd())\n",
        "print(\"Modules imported \\n\")\n",
        "print(\"Files in current directory:\")\n",
        "from subprocess import check_output\n",
        "print(check_output([\"ls\", \"../content\"]).decode(\"utf8\")) #check the files available in the directory"
      ],
      "execution_count": 0,
      "outputs": [
        {
          "output_type": "stream",
          "text": [
            "/content\n",
            "Modules imported \n",
            "\n",
            "Files in current directory:\n",
            "sample_data\n",
            "sample_submission.csv\n",
            "test.csv\n",
            "test.csv.zip\n",
            "test.ipynb\n",
            "train.csv\n",
            "train.csv.zip\n",
            "\n"
          ],
          "name": "stdout"
        }
      ]
    },
    {
      "cell_type": "code",
      "metadata": {
        "id": "ngd9aL2HQH1Y",
        "colab_type": "code",
        "colab": {}
      },
      "source": [
        ""
      ],
      "execution_count": 0,
      "outputs": []
    },
    {
      "cell_type": "markdown",
      "metadata": {
        "id": "cDsAD7d9QIfs",
        "colab_type": "text"
      },
      "source": [
        "# Reading the data "
      ]
    },
    {
      "cell_type": "code",
      "metadata": {
        "trusted": true,
        "_uuid": "dd21d55df8216b41b6f62a6df369246a5c860149",
        "id": "YIxD5JIKP_9y",
        "colab_type": "code",
        "colab": {}
      },
      "source": [
        "train_ini = pd.read_csv('../content/train.csv')\n",
        "test_ini = pd.read_csv('../content/test.csv')"
      ],
      "execution_count": 0,
      "outputs": []
    },
    {
      "cell_type": "code",
      "metadata": {
        "trusted": true,
        "_uuid": "62137573d06bff5fd352ef7b2f79b88a527ed97d",
        "id": "1wDzrh1EP_93",
        "colab_type": "code",
        "outputId": "63964a42-13de-4d82-8acc-5c0cb747fe2a",
        "colab": {
          "base_uri": "https://localhost:8080/",
          "height": 119
        }
      },
      "source": [
        "train = train_ini.copy()\n",
        "test_imagesKaggle = test_ini.copy()\n",
        "train_labelsKaggle = train_ini['label']\n",
        "\n",
        "print(\"train with Labels  \", train.shape)\n",
        "print(\"train_labelsKaggle \", train_labelsKaggle.shape)\n",
        "print(\"_\"*50)\n",
        "train.drop(['label'],axis=1, inplace=True) #dropping label\n",
        "train_imagesKaggle = train\n",
        "print(\"train_imagesKaggle without Labels \", train_imagesKaggle.shape)\n",
        "print(\"_\"*50)\n",
        "print(\"test_imagesKaggle  \", test_imagesKaggle.shape)"
      ],
      "execution_count": 0,
      "outputs": [
        {
          "output_type": "stream",
          "text": [
            "train with Labels   (42000, 785)\n",
            "train_labelsKaggle  (42000,)\n",
            "__________________________________________________\n",
            "train_imagesKaggle without Labels  (42000, 784)\n",
            "__________________________________________________\n",
            "test_imagesKaggle   (28000, 784)\n"
          ],
          "name": "stdout"
        }
      ]
    },
    {
      "cell_type": "markdown",
      "metadata": {
        "id": "mpzn349XxOLS",
        "colab_type": "text"
      },
      "source": [
        "# Reshaping Images"
      ]
    },
    {
      "cell_type": "code",
      "metadata": {
        "trusted": true,
        "_uuid": "08c17320b4df5efce432e399afdd0b58a9272493",
        "id": "ApMqwjt8P_99",
        "colab_type": "code",
        "outputId": "6fc0667f-d2df-4d5b-a95b-26c2122c0eef",
        "colab": {
          "base_uri": "https://localhost:8080/",
          "height": 564
        }
      },
      "source": [
        "# RESHAPE to 28 X 28 (Height, Width) which Kaggle has flattened in their file\n",
        "\n",
        "train4Display = np.array(train_imagesKaggle).reshape(42000,28,28)\n",
        "test4Display = np.array(test_imagesKaggle).reshape(28000,28,28)\n",
        "\n",
        "z = 4056\n",
        "\n",
        "print(\"train image\")\n",
        "print(train_labelsKaggle[z])\n",
        "digit = train4Display[z]\n",
        "plt.imshow(digit, cmap=plt.cm.binary)\n",
        "plt.show()\n",
        "\n",
        "print(\"test image\")\n",
        "digit = test4Display[z]\n",
        "plt.imshow(digit, cmap=plt.cm.binary)\n",
        "plt.show()\n"
      ],
      "execution_count": 0,
      "outputs": [
        {
          "output_type": "stream",
          "text": [
            "train image\n",
            "2\n"
          ],
          "name": "stdout"
        },
        {
          "output_type": "display_data",
          "data": {
            "image/png": "[encoded data removed]",
            "text/plain": [
              "<Figure size 432x288 with 1 Axes>"
            ]
          },
          "metadata": {
            "tags": []
          }
        },
        {
          "output_type": "stream",
          "text": [
            "test image\n"
          ],
          "name": "stdout"
        },
        {
          "output_type": "display_data",
          "data": {
            "image/png": "[encoded data removed]",
            "text/plain": [
              "<Figure size 432x288 with 1 Axes>"
            ]
          },
          "metadata": {
            "tags": []
          }
        }
      ]
    },
    {
      "cell_type": "markdown",
      "metadata": {
        "id": "WKjnO5aotYpF",
        "colab_type": "text"
      },
      "source": [
        "# NORMALIZE / SCALE and Prep for CNN in terms of number dimensions expected"
      ]
    },
    {
      "cell_type": "code",
      "metadata": {
        "trusted": true,
        "_uuid": "c6f6371bd2c5400a5cb4a735ef8a1e61b2093d66",
        "id": "Dvi5LcM7P_-C",
        "colab_type": "code",
        "outputId": "99e39cad-970b-47a9-8813-8c2262a23345",
        "colab": {
          "base_uri": "https://localhost:8080/",
          "height": 85
        }
      },
      "source": [
        "train_imagesKaggle = train4Display.reshape(42000,28,28,1)\n",
        "test_imagesKaggle = test4Display.reshape(28000,28,28,1)\n",
        "\n",
        "train_imagesKaggle = train_imagesKaggle.astype('float32') / 255\n",
        "test_imagesKaggle = test_imagesKaggle.astype('float32') / 255\n",
        "print(\"train_imagesKaggle \",train_imagesKaggle.shape)\n",
        "print(\"test_imagesKaggle \", test_imagesKaggle.shape)\n",
        "print(\"_\"*50)\n",
        "\n",
        "# ONE HOT ENCODER for the labels\n",
        "train_labelsKaggle = to_categorical(train_labelsKaggle)\n",
        "print(\"train_labelsKaggle \",train_labelsKaggle.shape)"
      ],
      "execution_count": 0,
      "outputs": [
        {
          "output_type": "stream",
          "text": [
            "train_imagesKaggle  (42000, 28, 28, 1)\n",
            "test_imagesKaggle  (28000, 28, 28, 1)\n",
            "__________________________________________________\n",
            "train_labelsKaggle  (42000, 10)\n"
          ],
          "name": "stdout"
        }
      ]
    },
    {
      "cell_type": "code",
      "metadata": {
        "trusted": true,
        "_uuid": "efd02eff42dd1d81d3408b3e10d8aa9769c97197",
        "id": "vAIrXw65P_-H",
        "colab_type": "code",
        "colab": {}
      },
      "source": [
        "# Load Data from Keras MNIST\n",
        "\n",
        "(train_imagesRaw, train_labelsRaw), (test_imagesRaw, test_labelsRaw) = mnist.load_data()"
      ],
      "execution_count": 0,
      "outputs": []
    },
    {
      "cell_type": "code",
      "metadata": {
        "trusted": true,
        "_uuid": "ed31acc871c37d7386fe4aa7e791d25ae3217e5d",
        "id": "qVJtNvPtP_-O",
        "colab_type": "code",
        "outputId": "3e9072f6-698c-46fa-e9b0-642fafe8b544",
        "colab": {
          "base_uri": "https://localhost:8080/",
          "height": 136
        }
      },
      "source": [
        "# Normalize / Scale and One Hot encoder for the Keras dataset & Reshape for CNN\n",
        "\n",
        "train_imagesKeras = train_imagesRaw.copy()\n",
        "train_labelsKeras = train_labelsRaw.copy()\n",
        "test_imagesKeras = test_imagesRaw.copy()\n",
        "test_labelsKeras = test_labelsRaw.copy()\n",
        "\n",
        "train_imagesKeras = train_imagesKeras.reshape(60000,28,28,1)\n",
        "test_imagesKeras = test_imagesKeras.reshape(10000,28,28,1)\n",
        "\n",
        "print(\"train_imagesKeras \",train_imagesKeras.shape)\n",
        "print(\"train_labelsKeras \",train_labelsKeras.shape)\n",
        "print(\"test_imagesKeras \", test_imagesKeras.shape)\n",
        "print(\"test_labelsKeras \", test_labelsKeras.shape)\n",
        "\n",
        "# NORMALIZE 0-255 to 0-1\n",
        "train_imagesKeras = train_imagesKeras.astype('float32') / 255\n",
        "test_imagesKeras = test_imagesKeras.astype('float32') / 255\n",
        "print(\"_\"*50)\n",
        "\n",
        "# ONE HOT ENCODER for the labels\n",
        "train_labelsKeras = to_categorical(train_labelsKeras)\n",
        "test_labelsKeras = to_categorical(test_labelsKeras)\n",
        "print(\"train_labelsKeras \",train_labelsKeras.shape)\n",
        "print(\"test_labelsKeras \", test_labelsKeras.shape)"
      ],
      "execution_count": 0,
      "outputs": [
        {
          "output_type": "stream",
          "text": [
            "train_imagesKeras  (60000, 28, 28, 1)\n",
            "train_labelsKeras  (60000,)\n",
            "test_imagesKeras  (10000, 28, 28, 1)\n",
            "test_labelsKeras  (10000,)\n",
            "__________________________________________________\n",
            "train_labelsKeras  (60000, 10)\n",
            "test_labelsKeras  (10000, 10)\n"
          ],
          "name": "stdout"
        }
      ]
    },
    {
      "cell_type": "markdown",
      "metadata": {
        "id": "whNXsY9jxa_l",
        "colab_type": "text"
      },
      "source": [
        "# Concatenating Datasets"
      ]
    },
    {
      "cell_type": "code",
      "metadata": {
        "trusted": true,
        "_uuid": "76394ab509a426d75385ebf6e2f66c8c4c116edf",
        "id": "_DMp2C0JP_-T",
        "colab_type": "code",
        "outputId": "5558743e-7800-4fa4-f268-d19d48b7de92",
        "colab": {
          "base_uri": "https://localhost:8080/",
          "height": 68
        }
      },
      "source": [
        "# CONCATENATE the training sets of Kaggle and Keras into final TRAIN and leave the test for CV\n",
        "\n",
        "train_images = np.concatenate((train_imagesKeras,train_imagesKaggle), axis=0)\n",
        "print(\"new Concatenated train_images \", train_images.shape)\n",
        "print(\"_\"*50)\n",
        "\n",
        "train_labels = np.concatenate((train_labelsKeras,train_labelsKaggle), axis=0)\n",
        "print(\"new Concatenated train_labels \", train_labels.shape)"
      ],
      "execution_count": 0,
      "outputs": [
        {
          "output_type": "stream",
          "text": [
            "new Concatenated train_images  (102000, 28, 28, 1)\n",
            "__________________________________________________\n",
            "new Concatenated train_labels  (102000, 10)\n"
          ],
          "name": "stdout"
        }
      ]
    },
    {
      "cell_type": "markdown",
      "metadata": {
        "id": "TuJdifCRxkee",
        "colab_type": "text"
      },
      "source": [
        "# Making the Model "
      ]
    },
    {
      "cell_type": "code",
      "metadata": {
        "trusted": true,
        "_uuid": "15ce294fa6aee518d0def20afa1b489cda189e3c",
        "id": "uMGnAPPKP_-Y",
        "colab_type": "code",
        "outputId": "6904ff26-e5f1-4325-d196-abf32d4cc730",
        "colab": {
          "base_uri": "https://localhost:8080/",
          "height": 819
        }
      },
      "source": [
        "# Initial model\n",
        "import keras\n",
        "model = models.Sequential()\n",
        "model.add(layers.Conv2D(8, (3, 3), activation='relu', input_shape=(28, 28, 1)))\n",
        "#model.add(layers.Dropout(0.1))\n",
        "model.add(layers.MaxPooling2D((2, 2)))\n",
        "model.add(layers.Conv2D(12, (3, 3), activation='relu'))\n",
        "#model.add(layers.Dropout(0.2))\n",
        "model.add(layers.MaxPooling2D((2, 2)))\n",
        "model.add(layers.Conv2D(32, (3, 3), activation='relu'))\n",
        "model.add(layers.Dropout(0.2))\n",
        "model.add(layers.GlobalAveragePooling2D())\n",
        "model.add(layers.Dense(48, activation='relu'))\n",
        "model.add(layers.Dense(32, activation='relu'))\n",
        "\n",
        "model.add(layers.Dense(10, activation='softmax'))\n",
        "\n",
        "filepath=\"weights_best.hdf5\" # checkpoint\n",
        "checkpoint = keras.callbacks.ModelCheckpoint(filepath, monitor='val_acc', verbose=1, save_best_only=True, mode='max')\n",
        "\n",
        "model.compile(optimizer='adam',loss='categorical_crossentropy',metrics=['accuracy'])\n",
        "print(model.summary())"
      ],
      "execution_count": 0,
      "outputs": [
        {
          "output_type": "stream",
          "text": [
            "WARNING:tensorflow:From /usr/local/lib/python3.6/dist-packages/keras/backend/tensorflow_backend.py:66: The name tf.get_default_graph is deprecated. Please use tf.compat.v1.get_default_graph instead.\n",
            "\n",
            "WARNING:tensorflow:From /usr/local/lib/python3.6/dist-packages/keras/backend/tensorflow_backend.py:541: The name tf.placeholder is deprecated. Please use tf.compat.v1.placeholder instead.\n",
            "\n",
            "WARNING:tensorflow:From /usr/local/lib/python3.6/dist-packages/keras/backend/tensorflow_backend.py:4432: The name tf.random_uniform is deprecated. Please use tf.random.uniform instead.\n",
            "\n",
            "WARNING:tensorflow:From /usr/local/lib/python3.6/dist-packages/keras/backend/tensorflow_backend.py:4267: The name tf.nn.max_pool is deprecated. Please use tf.nn.max_pool2d instead.\n",
            "\n",
            "WARNING:tensorflow:From /usr/local/lib/python3.6/dist-packages/keras/backend/tensorflow_backend.py:148: The name tf.placeholder_with_default is deprecated. Please use tf.compat.v1.placeholder_with_default instead.\n",
            "\n",
            "WARNING:tensorflow:From /usr/local/lib/python3.6/dist-packages/keras/backend/tensorflow_backend.py:3733: calling dropout (from tensorflow.python.ops.nn_ops) with keep_prob is deprecated and will be removed in a future version.\n",
            "Instructions for updating:\n",
            "Please use `rate` instead of `keep_prob`. Rate should be set to `rate = 1 - keep_prob`.\n",
            "WARNING:tensorflow:From /usr/local/lib/python3.6/dist-packages/keras/optimizers.py:793: The name tf.train.Optimizer is deprecated. Please use tf.compat.v1.train.Optimizer instead.\n",
            "\n",
            "WARNING:tensorflow:From /usr/local/lib/python3.6/dist-packages/keras/backend/tensorflow_backend.py:3576: The name tf.log is deprecated. Please use tf.math.log instead.\n",
            "\n",
            "Model: \"sequential_1\"\n",
            "_________________________________________________________________\n",
            "Layer (type)                 Output Shape              Param #   \n",
            "=================================================================\n",
            "conv2d_1 (Conv2D)            (None, 26, 26, 8)         80        \n",
            "_________________________________________________________________\n",
            "max_pooling2d_1 (MaxPooling2 (None, 13, 13, 8)         0         \n",
            "_________________________________________________________________\n",
            "conv2d_2 (Conv2D)            (None, 11, 11, 12)        876       \n",
            "_________________________________________________________________\n",
            "max_pooling2d_2 (MaxPooling2 (None, 5, 5, 12)          0         \n",
            "_________________________________________________________________\n",
            "conv2d_3 (Conv2D)            (None, 3, 3, 32)          3488      \n",
            "_________________________________________________________________\n",
            "dropout_1 (Dropout)          (None, 3, 3, 32)          0         \n",
            "_________________________________________________________________\n",
            "global_average_pooling2d_1 ( (None, 32)                0         \n",
            "_________________________________________________________________\n",
            "dense_1 (Dense)              (None, 48)                1584      \n",
            "_________________________________________________________________\n",
            "dense_2 (Dense)              (None, 32)                1568      \n",
            "_________________________________________________________________\n",
            "dense_3 (Dense)              (None, 10)                330       \n",
            "=================================================================\n",
            "Total params: 7,926\n",
            "Trainable params: 7,926\n",
            "Non-trainable params: 0\n",
            "_________________________________________________________________\n",
            "None\n"
          ],
          "name": "stdout"
        }
      ]
    },
    {
      "cell_type": "markdown",
      "metadata": {
        "id": "5szLtwYRSYfx",
        "colab_type": "text"
      },
      "source": [
        "## -Total parameters = 7,926"
      ]
    },
    {
      "cell_type": "markdown",
      "metadata": {
        "id": "exyNTQU9P_-f",
        "colab_type": "text"
      },
      "source": [
        "# Fitting and Evaluating the model"
      ]
    },
    {
      "cell_type": "code",
      "metadata": {
        "trusted": true,
        "_uuid": "0361e316830d909e82a8e56fef09bca13f51bcd7",
        "id": "lP5TkexGP_-k",
        "colab_type": "code",
        "outputId": "7b9b2c68-f1a7-40ee-fdc2-bfa7a8d9fbe7",
        "colab": {
          "base_uri": "https://localhost:8080/",
          "height": 1000
        }
      },
      "source": [
        "# Initial fIT & Evaluate initial model\n",
        "\n",
        "num_epochs = 150\n",
        "BatchSize = 512\n",
        "\n",
        "final_model=model.fit(train_images, train_labels, epochs=num_epochs, batch_size=BatchSize, validation_data=(test_imagesKeras, test_labelsKeras),callbacks=[checkpoint])\n",
        "\"\"\"#test_loss, test_acc = model.evaluate(test_imagesKeras, test_labelsKeras)\n",
        "print(\"_\"*80)\n",
        "print(\"Accuracy on test \", test_acc)\"\"\""
      ],
      "execution_count": 0,
      "outputs": [
        {
          "output_type": "stream",
          "text": [
            "WARNING:tensorflow:From /usr/local/lib/python3.6/dist-packages/tensorflow_core/python/ops/math_grad.py:1424: where (from tensorflow.python.ops.array_ops) is deprecated and will be removed in a future version.\n",
            "Instructions for updating:\n",
            "Use tf.where in 2.0, which has the same broadcast rule as np.where\n",
            "WARNING:tensorflow:From /usr/local/lib/python3.6/dist-packages/keras/backend/tensorflow_backend.py:1033: The name tf.assign_add is deprecated. Please use tf.compat.v1.assign_add instead.\n",
            "\n",
            "WARNING:tensorflow:From /usr/local/lib/python3.6/dist-packages/keras/backend/tensorflow_backend.py:1020: The name tf.assign is deprecated. Please use tf.compat.v1.assign instead.\n",
            "\n",
            "WARNING:tensorflow:From /usr/local/lib/python3.6/dist-packages/keras/backend/tensorflow_backend.py:3005: The name tf.Session is deprecated. Please use tf.compat.v1.Session instead.\n",
            "\n",
            "Train on 102000 samples, validate on 10000 samples\n",
            "Epoch 1/150\n",
            "WARNING:tensorflow:From /usr/local/lib/python3.6/dist-packages/keras/backend/tensorflow_backend.py:190: The name tf.get_default_session is deprecated. Please use tf.compat.v1.get_default_session instead.\n",
            "\n",
            "WARNING:tensorflow:From /usr/local/lib/python3.6/dist-packages/keras/backend/tensorflow_backend.py:197: The name tf.ConfigProto is deprecated. Please use tf.compat.v1.ConfigProto instead.\n",
            "\n",
            "WARNING:tensorflow:From /usr/local/lib/python3.6/dist-packages/keras/backend/tensorflow_backend.py:207: The name tf.global_variables is deprecated. Please use tf.compat.v1.global_variables instead.\n",
            "\n",
            "WARNING:tensorflow:From /usr/local/lib/python3.6/dist-packages/keras/backend/tensorflow_backend.py:216: The name tf.is_variable_initialized is deprecated. Please use tf.compat.v1.is_variable_initialized instead.\n",
            "\n",
            "WARNING:tensorflow:From /usr/local/lib/python3.6/dist-packages/keras/backend/tensorflow_backend.py:223: The name tf.variables_initializer is deprecated. Please use tf.compat.v1.variables_initializer instead.\n",
            "\n",
            "102000/102000 [==============================] - 16s 152us/step - loss: 1.2806 - acc: 0.5593 - val_loss: 0.4362 - val_acc: 0.8671\n",
            "\n",
            "Epoch 00001: val_acc improved from -inf to 0.86710, saving model to weights_best.hdf5\n",
            "Epoch 2/150\n",
            "102000/102000 [==============================] - 2s 15us/step - loss: 0.3966 - acc: 0.8737 - val_loss: 0.2233 - val_acc: 0.9293\n",
            "\n",
            "Epoch 00002: val_acc improved from 0.86710 to 0.92930, saving model to weights_best.hdf5\n",
            "Epoch 3/150\n",
            "102000/102000 [==============================] - 1s 15us/step - loss: 0.2636 - acc: 0.9165 - val_loss: 0.1558 - val_acc: 0.9526\n",
            "\n",
            "Epoch 00003: val_acc improved from 0.92930 to 0.95260, saving model to weights_best.hdf5\n",
            "Epoch 4/150\n",
            "102000/102000 [==============================] - 1s 15us/step - loss: 0.2094 - acc: 0.9338 - val_loss: 0.1260 - val_acc: 0.9612\n",
            "\n",
            "Epoch 00004: val_acc improved from 0.95260 to 0.96120, saving model to weights_best.hdf5\n",
            "Epoch 5/150\n",
            "102000/102000 [==============================] - 2s 15us/step - loss: 0.1779 - acc: 0.9443 - val_loss: 0.1170 - val_acc: 0.9625\n",
            "\n",
            "Epoch 00005: val_acc improved from 0.96120 to 0.96250, saving model to weights_best.hdf5\n",
            "Epoch 6/150\n",
            "102000/102000 [==============================] - 2s 15us/step - loss: 0.1570 - acc: 0.9507 - val_loss: 0.0925 - val_acc: 0.9706\n",
            "\n",
            "Epoch 00006: val_acc improved from 0.96250 to 0.97060, saving model to weights_best.hdf5\n",
            "Epoch 7/150\n",
            "102000/102000 [==============================] - 2s 15us/step - loss: 0.1411 - acc: 0.9559 - val_loss: 0.0818 - val_acc: 0.9741\n",
            "\n",
            "Epoch 00007: val_acc improved from 0.97060 to 0.97410, saving model to weights_best.hdf5\n",
            "Epoch 8/150\n",
            "102000/102000 [==============================] - 2s 15us/step - loss: 0.1305 - acc: 0.9597 - val_loss: 0.0728 - val_acc: 0.9772\n",
            "\n",
            "Epoch 00008: val_acc improved from 0.97410 to 0.97720, saving model to weights_best.hdf5\n",
            "Epoch 9/150\n",
            "102000/102000 [==============================] - 1s 14us/step - loss: 0.1193 - acc: 0.9631 - val_loss: 0.0689 - val_acc: 0.9789\n",
            "\n",
            "Epoch 00009: val_acc improved from 0.97720 to 0.97890, saving model to weights_best.hdf5\n",
            "Epoch 10/150\n",
            "102000/102000 [==============================] - 2s 15us/step - loss: 0.1120 - acc: 0.9651 - val_loss: 0.0663 - val_acc: 0.9783\n",
            "\n",
            "Epoch 00010: val_acc did not improve from 0.97890\n",
            "Epoch 11/150\n",
            "102000/102000 [==============================] - 2s 15us/step - loss: 0.1041 - acc: 0.9676 - val_loss: 0.0633 - val_acc: 0.9797\n",
            "\n",
            "Epoch 00011: val_acc improved from 0.97890 to 0.97970, saving model to weights_best.hdf5\n",
            "Epoch 12/150\n",
            "102000/102000 [==============================] - 2s 15us/step - loss: 0.0984 - acc: 0.9690 - val_loss: 0.0572 - val_acc: 0.9819\n",
            "\n",
            "Epoch 00012: val_acc improved from 0.97970 to 0.98190, saving model to weights_best.hdf5\n",
            "Epoch 13/150\n",
            "102000/102000 [==============================] - 1s 14us/step - loss: 0.0939 - acc: 0.9710 - val_loss: 0.0544 - val_acc: 0.9822\n",
            "\n",
            "Epoch 00013: val_acc improved from 0.98190 to 0.98220, saving model to weights_best.hdf5\n",
            "Epoch 14/150\n",
            "102000/102000 [==============================] - 1s 14us/step - loss: 0.0902 - acc: 0.9720 - val_loss: 0.0518 - val_acc: 0.9817\n",
            "\n",
            "Epoch 00014: val_acc did not improve from 0.98220\n",
            "Epoch 15/150\n",
            "102000/102000 [==============================] - 1s 15us/step - loss: 0.0841 - acc: 0.9734 - val_loss: 0.0503 - val_acc: 0.9824\n",
            "\n",
            "Epoch 00015: val_acc improved from 0.98220 to 0.98240, saving model to weights_best.hdf5\n",
            "Epoch 16/150\n",
            "102000/102000 [==============================] - 1s 15us/step - loss: 0.0822 - acc: 0.9744 - val_loss: 0.0485 - val_acc: 0.9853\n",
            "\n",
            "Epoch 00016: val_acc improved from 0.98240 to 0.98530, saving model to weights_best.hdf5\n",
            "Epoch 17/150\n",
            "102000/102000 [==============================] - 2s 15us/step - loss: 0.0772 - acc: 0.9760 - val_loss: 0.0447 - val_acc: 0.9851\n",
            "\n",
            "Epoch 00017: val_acc did not improve from 0.98530\n",
            "Epoch 18/150\n",
            "102000/102000 [==============================] - 2s 15us/step - loss: 0.0753 - acc: 0.9764 - val_loss: 0.0419 - val_acc: 0.9865\n",
            "\n",
            "Epoch 00018: val_acc improved from 0.98530 to 0.98650, saving model to weights_best.hdf5\n",
            "Epoch 19/150\n",
            "102000/102000 [==============================] - 2s 15us/step - loss: 0.0730 - acc: 0.9770 - val_loss: 0.0427 - val_acc: 0.9845\n",
            "\n",
            "Epoch 00019: val_acc did not improve from 0.98650\n",
            "Epoch 20/150\n",
            "102000/102000 [==============================] - 2s 15us/step - loss: 0.0702 - acc: 0.9785 - val_loss: 0.0428 - val_acc: 0.9861\n",
            "\n",
            "Epoch 00020: val_acc did not improve from 0.98650\n",
            "Epoch 21/150\n",
            "102000/102000 [==============================] - 2s 15us/step - loss: 0.0669 - acc: 0.9790 - val_loss: 0.0404 - val_acc: 0.9863\n",
            "\n",
            "Epoch 00021: val_acc did not improve from 0.98650\n",
            "Epoch 22/150\n",
            "102000/102000 [==============================] - 1s 14us/step - loss: 0.0658 - acc: 0.9797 - val_loss: 0.0412 - val_acc: 0.9857\n",
            "\n",
            "Epoch 00022: val_acc did not improve from 0.98650\n",
            "Epoch 23/150\n",
            "102000/102000 [==============================] - 1s 15us/step - loss: 0.0648 - acc: 0.9793 - val_loss: 0.0408 - val_acc: 0.9868\n",
            "\n",
            "Epoch 00023: val_acc improved from 0.98650 to 0.98680, saving model to weights_best.hdf5\n",
            "Epoch 24/150\n",
            "102000/102000 [==============================] - 2s 15us/step - loss: 0.0628 - acc: 0.9801 - val_loss: 0.0369 - val_acc: 0.9888\n",
            "\n",
            "Epoch 00024: val_acc improved from 0.98680 to 0.98880, saving model to weights_best.hdf5\n",
            "Epoch 25/150\n",
            "102000/102000 [==============================] - 1s 15us/step - loss: 0.0601 - acc: 0.9812 - val_loss: 0.0350 - val_acc: 0.9885\n",
            "\n",
            "Epoch 00025: val_acc did not improve from 0.98880\n",
            "Epoch 26/150\n",
            "102000/102000 [==============================] - 1s 15us/step - loss: 0.0601 - acc: 0.9811 - val_loss: 0.0368 - val_acc: 0.9868\n",
            "\n",
            "Epoch 00026: val_acc did not improve from 0.98880\n",
            "Epoch 27/150\n",
            "102000/102000 [==============================] - 2s 15us/step - loss: 0.0564 - acc: 0.9824 - val_loss: 0.0353 - val_acc: 0.9883\n",
            "\n",
            "Epoch 00027: val_acc did not improve from 0.98880\n",
            "Epoch 28/150\n",
            "102000/102000 [==============================] - 2s 15us/step - loss: 0.0558 - acc: 0.9818 - val_loss: 0.0314 - val_acc: 0.9884\n",
            "\n",
            "Epoch 00028: val_acc did not improve from 0.98880\n",
            "Epoch 29/150\n",
            "102000/102000 [==============================] - 1s 15us/step - loss: 0.0544 - acc: 0.9828 - val_loss: 0.0419 - val_acc: 0.9864\n",
            "\n",
            "Epoch 00029: val_acc did not improve from 0.98880\n",
            "Epoch 30/150\n",
            "102000/102000 [==============================] - 2s 15us/step - loss: 0.0548 - acc: 0.9828 - val_loss: 0.0332 - val_acc: 0.9888\n",
            "\n",
            "Epoch 00030: val_acc did not improve from 0.98880\n",
            "Epoch 31/150\n",
            "102000/102000 [==============================] - 1s 14us/step - loss: 0.0528 - acc: 0.9830 - val_loss: 0.0368 - val_acc: 0.9881\n",
            "\n",
            "Epoch 00031: val_acc did not improve from 0.98880\n",
            "Epoch 32/150\n",
            "102000/102000 [==============================] - 1s 15us/step - loss: 0.0521 - acc: 0.9831 - val_loss: 0.0304 - val_acc: 0.9901\n",
            "\n",
            "Epoch 00032: val_acc improved from 0.98880 to 0.99010, saving model to weights_best.hdf5\n",
            "Epoch 33/150\n",
            "102000/102000 [==============================] - 2s 15us/step - loss: 0.0510 - acc: 0.9835 - val_loss: 0.0305 - val_acc: 0.9900\n",
            "\n",
            "Epoch 00033: val_acc did not improve from 0.99010\n",
            "Epoch 34/150\n",
            "102000/102000 [==============================] - 1s 15us/step - loss: 0.0484 - acc: 0.9848 - val_loss: 0.0296 - val_acc: 0.9910\n",
            "\n",
            "Epoch 00034: val_acc improved from 0.99010 to 0.99100, saving model to weights_best.hdf5\n",
            "Epoch 35/150\n",
            "102000/102000 [==============================] - 2s 15us/step - loss: 0.0487 - acc: 0.9842 - val_loss: 0.0285 - val_acc: 0.9902\n",
            "\n",
            "Epoch 00035: val_acc did not improve from 0.99100\n",
            "Epoch 36/150\n",
            "102000/102000 [==============================] - 2s 15us/step - loss: 0.0469 - acc: 0.9851 - val_loss: 0.0297 - val_acc: 0.9902\n",
            "\n",
            "Epoch 00036: val_acc did not improve from 0.99100\n",
            "Epoch 37/150\n",
            "102000/102000 [==============================] - 1s 15us/step - loss: 0.0465 - acc: 0.9853 - val_loss: 0.0303 - val_acc: 0.9892\n",
            "\n",
            "Epoch 00037: val_acc did not improve from 0.99100\n",
            "Epoch 38/150\n",
            "102000/102000 [==============================] - 1s 15us/step - loss: 0.0453 - acc: 0.9858 - val_loss: 0.0289 - val_acc: 0.9905\n",
            "\n",
            "Epoch 00038: val_acc did not improve from 0.99100\n",
            "Epoch 39/150\n",
            "102000/102000 [==============================] - 1s 15us/step - loss: 0.0443 - acc: 0.9855 - val_loss: 0.0263 - val_acc: 0.9907\n",
            "\n",
            "Epoch 00039: val_acc did not improve from 0.99100\n",
            "Epoch 40/150\n",
            "102000/102000 [==============================] - 1s 14us/step - loss: 0.0423 - acc: 0.9863 - val_loss: 0.0253 - val_acc: 0.9916\n",
            "\n",
            "Epoch 00040: val_acc improved from 0.99100 to 0.99160, saving model to weights_best.hdf5\n",
            "Epoch 41/150\n",
            "102000/102000 [==============================] - 1s 15us/step - loss: 0.0423 - acc: 0.9862 - val_loss: 0.0275 - val_acc: 0.9910\n",
            "\n",
            "Epoch 00041: val_acc did not improve from 0.99160\n",
            "Epoch 42/150\n",
            "102000/102000 [==============================] - 1s 14us/step - loss: 0.0418 - acc: 0.9865 - val_loss: 0.0268 - val_acc: 0.9912\n",
            "\n",
            "Epoch 00042: val_acc did not improve from 0.99160\n",
            "Epoch 43/150\n",
            "102000/102000 [==============================] - 2s 15us/step - loss: 0.0412 - acc: 0.9869 - val_loss: 0.0274 - val_acc: 0.9910\n",
            "\n",
            "Epoch 00043: val_acc did not improve from 0.99160\n",
            "Epoch 44/150\n",
            "102000/102000 [==============================] - 1s 14us/step - loss: 0.0400 - acc: 0.9871 - val_loss: 0.0237 - val_acc: 0.9921\n",
            "\n",
            "Epoch 00044: val_acc improved from 0.99160 to 0.99210, saving model to weights_best.hdf5\n",
            "Epoch 45/150\n",
            "102000/102000 [==============================] - 2s 15us/step - loss: 0.0389 - acc: 0.9875 - val_loss: 0.0252 - val_acc: 0.9915\n",
            "\n",
            "Epoch 00045: val_acc did not improve from 0.99210\n",
            "Epoch 46/150\n",
            "102000/102000 [==============================] - 1s 14us/step - loss: 0.0395 - acc: 0.9871 - val_loss: 0.0283 - val_acc: 0.9903\n",
            "\n",
            "Epoch 00046: val_acc did not improve from 0.99210\n",
            "Epoch 47/150\n",
            "102000/102000 [==============================] - 1s 14us/step - loss: 0.0387 - acc: 0.9877 - val_loss: 0.0241 - val_acc: 0.9914\n",
            "\n",
            "Epoch 00047: val_acc did not improve from 0.99210\n",
            "Epoch 48/150\n",
            "102000/102000 [==============================] - 1s 14us/step - loss: 0.0370 - acc: 0.9880 - val_loss: 0.0246 - val_acc: 0.9914\n",
            "\n",
            "Epoch 00048: val_acc did not improve from 0.99210\n",
            "Epoch 49/150\n",
            "102000/102000 [==============================] - 1s 14us/step - loss: 0.0362 - acc: 0.9883 - val_loss: 0.0249 - val_acc: 0.9913\n",
            "\n",
            "Epoch 00049: val_acc did not improve from 0.99210\n",
            "Epoch 50/150\n",
            "102000/102000 [==============================] - 1s 15us/step - loss: 0.0369 - acc: 0.9880 - val_loss: 0.0238 - val_acc: 0.9916\n",
            "\n",
            "Epoch 00050: val_acc did not improve from 0.99210\n",
            "Epoch 51/150\n",
            "102000/102000 [==============================] - 2s 15us/step - loss: 0.0362 - acc: 0.9880 - val_loss: 0.0239 - val_acc: 0.9921\n",
            "\n",
            "Epoch 00051: val_acc improved from 0.99210 to 0.99210, saving model to weights_best.hdf5\n",
            "Epoch 52/150\n",
            "102000/102000 [==============================] - 1s 14us/step - loss: 0.0357 - acc: 0.9881 - val_loss: 0.0265 - val_acc: 0.9915\n",
            "\n",
            "Epoch 00052: val_acc did not improve from 0.99210\n",
            "Epoch 53/150\n",
            "102000/102000 [==============================] - 2s 15us/step - loss: 0.0343 - acc: 0.9889 - val_loss: 0.0233 - val_acc: 0.9920\n",
            "\n",
            "Epoch 00053: val_acc did not improve from 0.99210\n",
            "Epoch 54/150\n",
            "102000/102000 [==============================] - 2s 15us/step - loss: 0.0351 - acc: 0.9885 - val_loss: 0.0218 - val_acc: 0.9927\n",
            "\n",
            "Epoch 00054: val_acc improved from 0.99210 to 0.99270, saving model to weights_best.hdf5\n",
            "Epoch 55/150\n",
            "102000/102000 [==============================] - 2s 15us/step - loss: 0.0346 - acc: 0.9887 - val_loss: 0.0215 - val_acc: 0.9925\n",
            "\n",
            "Epoch 00055: val_acc did not improve from 0.99270\n",
            "Epoch 56/150\n",
            "102000/102000 [==============================] - 1s 14us/step - loss: 0.0325 - acc: 0.9895 - val_loss: 0.0224 - val_acc: 0.9922\n",
            "\n",
            "Epoch 00056: val_acc did not improve from 0.99270\n",
            "Epoch 57/150\n",
            "102000/102000 [==============================] - 1s 14us/step - loss: 0.0337 - acc: 0.9891 - val_loss: 0.0209 - val_acc: 0.9923\n",
            "\n",
            "Epoch 00057: val_acc did not improve from 0.99270\n",
            "Epoch 58/150\n",
            "102000/102000 [==============================] - 1s 15us/step - loss: 0.0346 - acc: 0.9890 - val_loss: 0.0220 - val_acc: 0.9926\n",
            "\n",
            "Epoch 00058: val_acc did not improve from 0.99270\n",
            "Epoch 59/150\n",
            "102000/102000 [==============================] - 1s 14us/step - loss: 0.0327 - acc: 0.9893 - val_loss: 0.0214 - val_acc: 0.9919\n",
            "\n",
            "Epoch 00059: val_acc did not improve from 0.99270\n",
            "Epoch 60/150\n",
            "102000/102000 [==============================] - 2s 15us/step - loss: 0.0316 - acc: 0.9901 - val_loss: 0.0201 - val_acc: 0.9926\n",
            "\n",
            "Epoch 00060: val_acc did not improve from 0.99270\n",
            "Epoch 61/150\n",
            "102000/102000 [==============================] - 1s 14us/step - loss: 0.0319 - acc: 0.9894 - val_loss: 0.0235 - val_acc: 0.9922\n",
            "\n",
            "Epoch 00061: val_acc did not improve from 0.99270\n",
            "Epoch 62/150\n",
            "102000/102000 [==============================] - 2s 15us/step - loss: 0.0315 - acc: 0.9897 - val_loss: 0.0195 - val_acc: 0.9935\n",
            "\n",
            "Epoch 00062: val_acc improved from 0.99270 to 0.99350, saving model to weights_best.hdf5\n",
            "Epoch 63/150\n",
            "102000/102000 [==============================] - 2s 15us/step - loss: 0.0308 - acc: 0.9897 - val_loss: 0.0202 - val_acc: 0.9933\n",
            "\n",
            "Epoch 00063: val_acc did not improve from 0.99350\n",
            "Epoch 64/150\n",
            "102000/102000 [==============================] - 1s 14us/step - loss: 0.0306 - acc: 0.9898 - val_loss: 0.0199 - val_acc: 0.9934\n",
            "\n",
            "Epoch 00064: val_acc did not improve from 0.99350\n",
            "Epoch 65/150\n",
            "102000/102000 [==============================] - 1s 14us/step - loss: 0.0321 - acc: 0.9895 - val_loss: 0.0240 - val_acc: 0.9927\n",
            "\n",
            "Epoch 00065: val_acc did not improve from 0.99350\n",
            "Epoch 66/150\n",
            "102000/102000 [==============================] - 2s 15us/step - loss: 0.0305 - acc: 0.9899 - val_loss: 0.0222 - val_acc: 0.9932\n",
            "\n",
            "Epoch 00066: val_acc did not improve from 0.99350\n",
            "Epoch 67/150\n",
            "102000/102000 [==============================] - 2s 15us/step - loss: 0.0293 - acc: 0.9904 - val_loss: 0.0226 - val_acc: 0.9928\n",
            "\n",
            "Epoch 00067: val_acc did not improve from 0.99350\n",
            "Epoch 68/150\n",
            "102000/102000 [==============================] - 2s 15us/step - loss: 0.0288 - acc: 0.9903 - val_loss: 0.0175 - val_acc: 0.9940\n",
            "\n",
            "Epoch 00068: val_acc improved from 0.99350 to 0.99400, saving model to weights_best.hdf5\n",
            "Epoch 69/150\n",
            "102000/102000 [==============================] - 2s 15us/step - loss: 0.0288 - acc: 0.9905 - val_loss: 0.0199 - val_acc: 0.9936\n",
            "\n",
            "Epoch 00069: val_acc did not improve from 0.99400\n",
            "Epoch 70/150\n",
            "102000/102000 [==============================] - 2s 15us/step - loss: 0.0283 - acc: 0.9907 - val_loss: 0.0182 - val_acc: 0.9931\n",
            "\n",
            "Epoch 00070: val_acc did not improve from 0.99400\n",
            "Epoch 71/150\n",
            "102000/102000 [==============================] - 2s 15us/step - loss: 0.0297 - acc: 0.9902 - val_loss: 0.0208 - val_acc: 0.9928\n",
            "\n",
            "Epoch 00071: val_acc did not improve from 0.99400\n",
            "Epoch 72/150\n",
            "102000/102000 [==============================] - 1s 15us/step - loss: 0.0283 - acc: 0.9906 - val_loss: 0.0223 - val_acc: 0.9924\n",
            "\n",
            "Epoch 00072: val_acc did not improve from 0.99400\n",
            "Epoch 73/150\n",
            "102000/102000 [==============================] - 1s 15us/step - loss: 0.0279 - acc: 0.9909 - val_loss: 0.0203 - val_acc: 0.9931\n",
            "\n",
            "Epoch 00073: val_acc did not improve from 0.99400\n",
            "Epoch 74/150\n",
            "102000/102000 [==============================] - 1s 15us/step - loss: 0.0275 - acc: 0.9909 - val_loss: 0.0206 - val_acc: 0.9941\n",
            "\n",
            "Epoch 00074: val_acc improved from 0.99400 to 0.99410, saving model to weights_best.hdf5\n",
            "Epoch 75/150\n",
            "102000/102000 [==============================] - 1s 15us/step - loss: 0.0288 - acc: 0.9906 - val_loss: 0.0212 - val_acc: 0.9928\n",
            "\n",
            "Epoch 00075: val_acc did not improve from 0.99410\n",
            "Epoch 76/150\n",
            "102000/102000 [==============================] - 1s 14us/step - loss: 0.0272 - acc: 0.9911 - val_loss: 0.0224 - val_acc: 0.9927\n",
            "\n",
            "Epoch 00076: val_acc did not improve from 0.99410\n",
            "Epoch 77/150\n",
            "102000/102000 [==============================] - 1s 15us/step - loss: 0.0269 - acc: 0.9912 - val_loss: 0.0185 - val_acc: 0.9941\n",
            "\n",
            "Epoch 00077: val_acc improved from 0.99410 to 0.99410, saving model to weights_best.hdf5\n",
            "Epoch 78/150\n",
            "102000/102000 [==============================] - 1s 14us/step - loss: 0.0262 - acc: 0.9914 - val_loss: 0.0192 - val_acc: 0.9933\n",
            "\n",
            "Epoch 00078: val_acc did not improve from 0.99410\n",
            "Epoch 79/150\n",
            "102000/102000 [==============================] - 1s 14us/step - loss: 0.0259 - acc: 0.9917 - val_loss: 0.0242 - val_acc: 0.9922\n",
            "\n",
            "Epoch 00079: val_acc did not improve from 0.99410\n",
            "Epoch 80/150\n",
            "102000/102000 [==============================] - 2s 15us/step - loss: 0.0275 - acc: 0.9908 - val_loss: 0.0203 - val_acc: 0.9932\n",
            "\n",
            "Epoch 00080: val_acc did not improve from 0.99410\n",
            "Epoch 81/150\n",
            "102000/102000 [==============================] - 2s 15us/step - loss: 0.0267 - acc: 0.9913 - val_loss: 0.0197 - val_acc: 0.9932\n",
            "\n",
            "Epoch 00081: val_acc did not improve from 0.99410\n",
            "Epoch 82/150\n",
            "102000/102000 [==============================] - 2s 15us/step - loss: 0.0273 - acc: 0.9910 - val_loss: 0.0179 - val_acc: 0.9940\n",
            "\n",
            "Epoch 00082: val_acc did not improve from 0.99410\n",
            "Epoch 83/150\n",
            "102000/102000 [==============================] - 1s 14us/step - loss: 0.0254 - acc: 0.9918 - val_loss: 0.0199 - val_acc: 0.9933\n",
            "\n",
            "Epoch 00083: val_acc did not improve from 0.99410\n",
            "Epoch 84/150\n",
            "102000/102000 [==============================] - 1s 14us/step - loss: 0.0248 - acc: 0.9918 - val_loss: 0.0180 - val_acc: 0.9946\n",
            "\n",
            "Epoch 00084: val_acc improved from 0.99410 to 0.99460, saving model to weights_best.hdf5\n",
            "Epoch 85/150\n",
            "102000/102000 [==============================] - 2s 15us/step - loss: 0.0237 - acc: 0.9921 - val_loss: 0.0204 - val_acc: 0.9929\n",
            "\n",
            "Epoch 00085: val_acc did not improve from 0.99460\n",
            "Epoch 86/150\n",
            "102000/102000 [==============================] - 2s 15us/step - loss: 0.0259 - acc: 0.9913 - val_loss: 0.0183 - val_acc: 0.9936\n",
            "\n",
            "Epoch 00086: val_acc did not improve from 0.99460\n",
            "Epoch 87/150\n",
            "102000/102000 [==============================] - 1s 15us/step - loss: 0.0241 - acc: 0.9921 - val_loss: 0.0215 - val_acc: 0.9930\n",
            "\n",
            "Epoch 00087: val_acc did not improve from 0.99460\n",
            "Epoch 88/150\n",
            "102000/102000 [==============================] - 2s 15us/step - loss: 0.0249 - acc: 0.9917 - val_loss: 0.0162 - val_acc: 0.9946\n",
            "\n",
            "Epoch 00088: val_acc did not improve from 0.99460\n",
            "Epoch 89/150\n",
            "102000/102000 [==============================] - 2s 15us/step - loss: 0.0246 - acc: 0.9917 - val_loss: 0.0167 - val_acc: 0.9943\n",
            "\n",
            "Epoch 00089: val_acc did not improve from 0.99460\n",
            "Epoch 90/150\n",
            "102000/102000 [==============================] - 1s 14us/step - loss: 0.0248 - acc: 0.9916 - val_loss: 0.0185 - val_acc: 0.9932\n",
            "\n",
            "Epoch 00090: val_acc did not improve from 0.99460\n",
            "Epoch 91/150\n",
            "102000/102000 [==============================] - 2s 15us/step - loss: 0.0247 - acc: 0.9916 - val_loss: 0.0182 - val_acc: 0.9945\n",
            "\n",
            "Epoch 00091: val_acc did not improve from 0.99460\n",
            "Epoch 92/150\n",
            "102000/102000 [==============================] - 2s 15us/step - loss: 0.0250 - acc: 0.9915 - val_loss: 0.0213 - val_acc: 0.9924\n",
            "\n",
            "Epoch 00092: val_acc did not improve from 0.99460\n",
            "Epoch 93/150\n",
            "102000/102000 [==============================] - 2s 15us/step - loss: 0.0230 - acc: 0.9923 - val_loss: 0.0199 - val_acc: 0.9929\n",
            "\n",
            "Epoch 00093: val_acc did not improve from 0.99460\n",
            "Epoch 94/150\n",
            "102000/102000 [==============================] - 1s 15us/step - loss: 0.0239 - acc: 0.9921 - val_loss: 0.0166 - val_acc: 0.9945\n",
            "\n",
            "Epoch 00094: val_acc did not improve from 0.99460\n",
            "Epoch 95/150\n",
            "102000/102000 [==============================] - 2s 15us/step - loss: 0.0234 - acc: 0.9924 - val_loss: 0.0175 - val_acc: 0.9941\n",
            "\n",
            "Epoch 00095: val_acc did not improve from 0.99460\n",
            "Epoch 96/150\n",
            "102000/102000 [==============================] - 2s 16us/step - loss: 0.0244 - acc: 0.9921 - val_loss: 0.0185 - val_acc: 0.9940\n",
            "\n",
            "Epoch 00096: val_acc did not improve from 0.99460\n",
            "Epoch 97/150\n",
            "102000/102000 [==============================] - 2s 15us/step - loss: 0.0233 - acc: 0.9923 - val_loss: 0.0171 - val_acc: 0.9951\n",
            "\n",
            "Epoch 00097: val_acc improved from 0.99460 to 0.99510, saving model to weights_best.hdf5\n",
            "Epoch 98/150\n",
            "102000/102000 [==============================] - 2s 15us/step - loss: 0.0231 - acc: 0.9924 - val_loss: 0.0160 - val_acc: 0.9949\n",
            "\n",
            "Epoch 00098: val_acc did not improve from 0.99510\n",
            "Epoch 99/150\n",
            "102000/102000 [==============================] - 2s 15us/step - loss: 0.0231 - acc: 0.9923 - val_loss: 0.0182 - val_acc: 0.9937\n",
            "\n",
            "Epoch 00099: val_acc did not improve from 0.99510\n",
            "Epoch 100/150\n",
            "102000/102000 [==============================] - 1s 14us/step - loss: 0.0212 - acc: 0.9929 - val_loss: 0.0180 - val_acc: 0.9949\n",
            "\n",
            "Epoch 00100: val_acc did not improve from 0.99510\n",
            "Epoch 101/150\n",
            "102000/102000 [==============================] - 1s 14us/step - loss: 0.0225 - acc: 0.9921 - val_loss: 0.0170 - val_acc: 0.9940\n",
            "\n",
            "Epoch 00101: val_acc did not improve from 0.99510\n",
            "Epoch 102/150\n",
            "102000/102000 [==============================] - 1s 15us/step - loss: 0.0220 - acc: 0.9926 - val_loss: 0.0177 - val_acc: 0.9945\n",
            "\n",
            "Epoch 00102: val_acc did not improve from 0.99510\n",
            "Epoch 103/150\n",
            "102000/102000 [==============================] - 2s 16us/step - loss: 0.0225 - acc: 0.9924 - val_loss: 0.0160 - val_acc: 0.9948\n",
            "\n",
            "Epoch 00103: val_acc did not improve from 0.99510\n",
            "Epoch 104/150\n",
            "102000/102000 [==============================] - 2s 15us/step - loss: 0.0234 - acc: 0.9922 - val_loss: 0.0191 - val_acc: 0.9935\n",
            "\n",
            "Epoch 00104: val_acc did not improve from 0.99510\n",
            "Epoch 105/150\n",
            "102000/102000 [==============================] - 1s 14us/step - loss: 0.0225 - acc: 0.9925 - val_loss: 0.0166 - val_acc: 0.9944\n",
            "\n",
            "Epoch 00105: val_acc did not improve from 0.99510\n",
            "Epoch 106/150\n",
            "102000/102000 [==============================] - 1s 14us/step - loss: 0.0214 - acc: 0.9925 - val_loss: 0.0173 - val_acc: 0.9945\n",
            "\n",
            "Epoch 00106: val_acc did not improve from 0.99510\n",
            "Epoch 107/150\n",
            "102000/102000 [==============================] - 1s 14us/step - loss: 0.0215 - acc: 0.9928 - val_loss: 0.0168 - val_acc: 0.9943\n",
            "\n",
            "Epoch 00107: val_acc did not improve from 0.99510\n",
            "Epoch 108/150\n",
            "102000/102000 [==============================] - 2s 15us/step - loss: 0.0213 - acc: 0.9928 - val_loss: 0.0188 - val_acc: 0.9942\n",
            "\n",
            "Epoch 00108: val_acc did not improve from 0.99510\n",
            "Epoch 109/150\n",
            "102000/102000 [==============================] - 2s 15us/step - loss: 0.0208 - acc: 0.9928 - val_loss: 0.0159 - val_acc: 0.9946\n",
            "\n",
            "Epoch 00109: val_acc did not improve from 0.99510\n",
            "Epoch 110/150\n",
            "102000/102000 [==============================] - 1s 14us/step - loss: 0.0211 - acc: 0.9930 - val_loss: 0.0155 - val_acc: 0.9952\n",
            "\n",
            "Epoch 00110: val_acc improved from 0.99510 to 0.99520, saving model to weights_best.hdf5\n",
            "Epoch 111/150\n",
            "102000/102000 [==============================] - 1s 14us/step - loss: 0.0195 - acc: 0.9934 - val_loss: 0.0163 - val_acc: 0.9952\n",
            "\n",
            "Epoch 00111: val_acc did not improve from 0.99520\n",
            "Epoch 112/150\n",
            "102000/102000 [==============================] - 1s 14us/step - loss: 0.0217 - acc: 0.9928 - val_loss: 0.0177 - val_acc: 0.9945\n",
            "\n",
            "Epoch 00112: val_acc did not improve from 0.99520\n",
            "Epoch 113/150\n",
            "102000/102000 [==============================] - 2s 15us/step - loss: 0.0206 - acc: 0.9930 - val_loss: 0.0173 - val_acc: 0.9946\n",
            "\n",
            "Epoch 00113: val_acc did not improve from 0.99520\n",
            "Epoch 114/150\n",
            "102000/102000 [==============================] - 1s 15us/step - loss: 0.0210 - acc: 0.9928 - val_loss: 0.0194 - val_acc: 0.9937\n",
            "\n",
            "Epoch 00114: val_acc did not improve from 0.99520\n",
            "Epoch 115/150\n",
            "102000/102000 [==============================] - 1s 14us/step - loss: 0.0205 - acc: 0.9931 - val_loss: 0.0179 - val_acc: 0.9939\n",
            "\n",
            "Epoch 00115: val_acc did not improve from 0.99520\n",
            "Epoch 116/150\n",
            "102000/102000 [==============================] - 1s 15us/step - loss: 0.0197 - acc: 0.9934 - val_loss: 0.0165 - val_acc: 0.9942\n",
            "\n",
            "Epoch 00116: val_acc did not improve from 0.99520\n",
            "Epoch 117/150\n",
            "102000/102000 [==============================] - 2s 15us/step - loss: 0.0204 - acc: 0.9931 - val_loss: 0.0164 - val_acc: 0.9958\n",
            "\n",
            "Epoch 00117: val_acc improved from 0.99520 to 0.99580, saving model to weights_best.hdf5\n",
            "Epoch 118/150\n",
            "102000/102000 [==============================] - 2s 15us/step - loss: 0.0201 - acc: 0.9935 - val_loss: 0.0146 - val_acc: 0.9950\n",
            "\n",
            "Epoch 00118: val_acc did not improve from 0.99580\n",
            "Epoch 119/150\n",
            "102000/102000 [==============================] - 2s 15us/step - loss: 0.0196 - acc: 0.9934 - val_loss: 0.0174 - val_acc: 0.9943\n",
            "\n",
            "Epoch 00119: val_acc did not improve from 0.99580\n",
            "Epoch 120/150\n",
            "102000/102000 [==============================] - 2s 15us/step - loss: 0.0202 - acc: 0.9933 - val_loss: 0.0159 - val_acc: 0.9951\n",
            "\n",
            "Epoch 00120: val_acc did not improve from 0.99580\n",
            "Epoch 121/150\n",
            "102000/102000 [==============================] - 2s 15us/step - loss: 0.0188 - acc: 0.9940 - val_loss: 0.0158 - val_acc: 0.9955\n",
            "\n",
            "Epoch 00121: val_acc did not improve from 0.99580\n",
            "Epoch 122/150\n",
            "102000/102000 [==============================] - 1s 14us/step - loss: 0.0197 - acc: 0.9934 - val_loss: 0.0165 - val_acc: 0.9949\n",
            "\n",
            "Epoch 00122: val_acc did not improve from 0.99580\n",
            "Epoch 123/150\n",
            "102000/102000 [==============================] - 2s 15us/step - loss: 0.0196 - acc: 0.9934 - val_loss: 0.0150 - val_acc: 0.9950\n",
            "\n",
            "Epoch 00123: val_acc did not improve from 0.99580\n",
            "Epoch 124/150\n",
            "102000/102000 [==============================] - 1s 14us/step - loss: 0.0185 - acc: 0.9935 - val_loss: 0.0194 - val_acc: 0.9941\n",
            "\n",
            "Epoch 00124: val_acc did not improve from 0.99580\n",
            "Epoch 125/150\n",
            "102000/102000 [==============================] - 2s 15us/step - loss: 0.0201 - acc: 0.9928 - val_loss: 0.0169 - val_acc: 0.9946\n",
            "\n",
            "Epoch 00125: val_acc did not improve from 0.99580\n",
            "Epoch 126/150\n",
            "102000/102000 [==============================] - 2s 15us/step - loss: 0.0208 - acc: 0.9929 - val_loss: 0.0167 - val_acc: 0.9950\n",
            "\n",
            "Epoch 00126: val_acc did not improve from 0.99580\n",
            "Epoch 127/150\n",
            "102000/102000 [==============================] - 2s 15us/step - loss: 0.0198 - acc: 0.9933 - val_loss: 0.0177 - val_acc: 0.9945\n",
            "\n",
            "Epoch 00127: val_acc did not improve from 0.99580\n",
            "Epoch 128/150\n",
            "102000/102000 [==============================] - 1s 14us/step - loss: 0.0187 - acc: 0.9938 - val_loss: 0.0162 - val_acc: 0.9943\n",
            "\n",
            "Epoch 00128: val_acc did not improve from 0.99580\n",
            "Epoch 129/150\n",
            "102000/102000 [==============================] - 1s 14us/step - loss: 0.0191 - acc: 0.9938 - val_loss: 0.0161 - val_acc: 0.9955\n",
            "\n",
            "Epoch 00129: val_acc did not improve from 0.99580\n",
            "Epoch 130/150\n",
            "102000/102000 [==============================] - 2s 15us/step - loss: 0.0174 - acc: 0.9941 - val_loss: 0.0130 - val_acc: 0.9963\n",
            "\n",
            "Epoch 00130: val_acc improved from 0.99580 to 0.99630, saving model to weights_best.hdf5\n",
            "Epoch 131/150\n",
            "102000/102000 [==============================] - 2s 15us/step - loss: 0.0186 - acc: 0.9937 - val_loss: 0.0153 - val_acc: 0.9946\n",
            "\n",
            "Epoch 00131: val_acc did not improve from 0.99630\n",
            "Epoch 132/150\n",
            "102000/102000 [==============================] - 1s 14us/step - loss: 0.0183 - acc: 0.9937 - val_loss: 0.0166 - val_acc: 0.9948\n",
            "\n",
            "Epoch 00132: val_acc did not improve from 0.99630\n",
            "Epoch 133/150\n",
            "102000/102000 [==============================] - 2s 15us/step - loss: 0.0188 - acc: 0.9935 - val_loss: 0.0150 - val_acc: 0.9957\n",
            "\n",
            "Epoch 00133: val_acc did not improve from 0.99630\n",
            "Epoch 134/150\n",
            "102000/102000 [==============================] - 1s 14us/step - loss: 0.0184 - acc: 0.9938 - val_loss: 0.0159 - val_acc: 0.9957\n",
            "\n",
            "Epoch 00134: val_acc did not improve from 0.99630\n",
            "Epoch 135/150\n",
            "102000/102000 [==============================] - 2s 15us/step - loss: 0.0189 - acc: 0.9938 - val_loss: 0.0140 - val_acc: 0.9961\n",
            "\n",
            "Epoch 00135: val_acc did not improve from 0.99630\n",
            "Epoch 136/150\n",
            "102000/102000 [==============================] - 2s 15us/step - loss: 0.0176 - acc: 0.9940 - val_loss: 0.0163 - val_acc: 0.9953\n",
            "\n",
            "Epoch 00136: val_acc did not improve from 0.99630\n",
            "Epoch 137/150\n",
            "102000/102000 [==============================] - 2s 15us/step - loss: 0.0183 - acc: 0.9940 - val_loss: 0.0148 - val_acc: 0.9956\n",
            "\n",
            "Epoch 00137: val_acc did not improve from 0.99630\n",
            "Epoch 138/150\n",
            "102000/102000 [==============================] - 1s 14us/step - loss: 0.0181 - acc: 0.9937 - val_loss: 0.0158 - val_acc: 0.9951\n",
            "\n",
            "Epoch 00138: val_acc did not improve from 0.99630\n",
            "Epoch 139/150\n",
            "102000/102000 [==============================] - 1s 14us/step - loss: 0.0182 - acc: 0.9938 - val_loss: 0.0175 - val_acc: 0.9949\n",
            "\n",
            "Epoch 00139: val_acc did not improve from 0.99630\n",
            "Epoch 140/150\n",
            "102000/102000 [==============================] - 1s 14us/step - loss: 0.0188 - acc: 0.9936 - val_loss: 0.0163 - val_acc: 0.9952\n",
            "\n",
            "Epoch 00140: val_acc did not improve from 0.99630\n",
            "Epoch 141/150\n",
            "102000/102000 [==============================] - 1s 15us/step - loss: 0.0176 - acc: 0.9941 - val_loss: 0.0152 - val_acc: 0.9958\n",
            "\n",
            "Epoch 00141: val_acc did not improve from 0.99630\n",
            "Epoch 142/150\n",
            "102000/102000 [==============================] - 1s 14us/step - loss: 0.0185 - acc: 0.9937 - val_loss: 0.0168 - val_acc: 0.9945\n",
            "\n",
            "Epoch 00142: val_acc did not improve from 0.99630\n",
            "Epoch 143/150\n",
            "102000/102000 [==============================] - 2s 15us/step - loss: 0.0177 - acc: 0.9940 - val_loss: 0.0166 - val_acc: 0.9950\n",
            "\n",
            "Epoch 00143: val_acc did not improve from 0.99630\n",
            "Epoch 144/150\n",
            "102000/102000 [==============================] - 2s 16us/step - loss: 0.0174 - acc: 0.9942 - val_loss: 0.0171 - val_acc: 0.9939\n",
            "\n",
            "Epoch 00144: val_acc did not improve from 0.99630\n",
            "Epoch 145/150\n",
            "102000/102000 [==============================] - 2s 15us/step - loss: 0.0185 - acc: 0.9937 - val_loss: 0.0147 - val_acc: 0.9958\n",
            "\n",
            "Epoch 00145: val_acc did not improve from 0.99630\n",
            "Epoch 146/150\n",
            "102000/102000 [==============================] - 2s 15us/step - loss: 0.0187 - acc: 0.9938 - val_loss: 0.0150 - val_acc: 0.9957\n",
            "\n",
            "Epoch 00146: val_acc did not improve from 0.99630\n",
            "Epoch 147/150\n",
            "102000/102000 [==============================] - 2s 16us/step - loss: 0.0168 - acc: 0.9943 - val_loss: 0.0168 - val_acc: 0.9947\n",
            "\n",
            "Epoch 00147: val_acc did not improve from 0.99630\n",
            "Epoch 148/150\n",
            "102000/102000 [==============================] - 2s 15us/step - loss: 0.0172 - acc: 0.9943 - val_loss: 0.0195 - val_acc: 0.9948\n",
            "\n",
            "Epoch 00148: val_acc did not improve from 0.99630\n",
            "Epoch 149/150\n",
            "102000/102000 [==============================] - 2s 15us/step - loss: 0.0181 - acc: 0.9937 - val_loss: 0.0159 - val_acc: 0.9956\n",
            "\n",
            "Epoch 00149: val_acc did not improve from 0.99630\n",
            "Epoch 150/150\n",
            "102000/102000 [==============================] - 2s 15us/step - loss: 0.0179 - acc: 0.9940 - val_loss: 0.0152 - val_acc: 0.9952\n",
            "\n",
            "Epoch 00150: val_acc did not improve from 0.99630\n"
          ],
          "name": "stdout"
        },
        {
          "output_type": "execute_result",
          "data": {
            "text/plain": [
              "'#test_loss, test_acc = model.evaluate(test_imagesKeras, test_labelsKeras)\\nprint(\"_\"*80)\\nprint(\"Accuracy on test \", test_acc)'"
            ]
          },
          "metadata": {
            "tags": []
          },
          "execution_count": 31
        }
      ]
    },
    {
      "cell_type": "markdown",
      "metadata": {
        "id": "OTZyhUrmx7qS",
        "colab_type": "text"
      },
      "source": [
        "# Result - We achieved accuracy greater than 99.4% with only 7926 number of parameters."
      ]
    },
    {
      "cell_type": "markdown",
      "metadata": {
        "id": "lWQMTPRLyTy9",
        "colab_type": "text"
      },
      "source": [
        "# Plotting the accuracy vs loss,epoch graphs"
      ]
    },
    {
      "cell_type": "code",
      "metadata": {
        "id": "EKHCtiJsUggK",
        "colab_type": "code",
        "outputId": "edf53827-2633-4290-ac10-9d987f45eab5",
        "colab": {
          "base_uri": "https://localhost:8080/",
          "height": 581
        }
      },
      "source": [
        "plt.plot(final_model.history['acc'])\n",
        "plt.plot(final_model.history['val_acc'])\n",
        "plt.title('model accuracy')\n",
        "plt.ylabel('accuracy')\n",
        "plt.xlabel('epoch')\n",
        "plt.legend(['train', 'Val'], loc='upper left')\n",
        "plt.show()\n",
        "# summarize history for loss\n",
        "plt.plot(final_model.history['loss'])\n",
        "plt.plot(final_model.history['val_loss'])\n",
        "\n",
        "plt.title('model loss')\n",
        "plt.ylabel('loss')\n",
        "plt.xlabel('epoch')\n",
        "plt.legend(['train', 'Val'], loc='upper left')\n",
        "plt.show()\n"
      ],
      "execution_count": 0,
      "outputs": [
        {
          "output_type": "display_data",
          "data": {
            "image/png": "[encoded data removed]",
            "text/plain": [
              "<Figure size 432x288 with 1 Axes>"
            ]
          },
          "metadata": {
            "tags": []
          }
        },
        {
          "output_type": "display_data",
          "data": {
            "image/png": "[encoded data removed]",
            "text/plain": [
              "<Figure size 432x288 with 1 Axes>"
            ]
          },
          "metadata": {
            "tags": []
          }
        }
      ]
    },
    {
      "cell_type": "code",
      "metadata": {
        "id": "WaqcIgfIWobo",
        "colab_type": "code",
        "colab": {}
      },
      "source": [
        ""
      ],
      "execution_count": 0,
      "outputs": []
    }
  ]
}